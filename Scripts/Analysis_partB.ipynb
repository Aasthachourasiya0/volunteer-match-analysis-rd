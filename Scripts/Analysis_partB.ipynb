{
 "cells": [
  {
   "cell_type": "code",
   "execution_count": 12,
   "id": "476ebc55-8688-4b3f-8457-83e993c9808f",
   "metadata": {},
   "outputs": [],
   "source": [
    "import pandas as pd\n",
    "import numpy as np\n",
    "import matplotlib.pyplot as plt\n"
   ]
  },
  {
   "cell_type": "markdown",
   "id": "8d2aed9c-97d2-4346-8b58-16b5a0ea9869",
   "metadata": {},
   "source": [
    "**write table data**"
   ]
  },
  {
   "cell_type": "code",
   "execution_count": 2,
   "id": "d5c95f80-4a96-49b1-b22c-54acaa197a48",
   "metadata": {},
   "outputs": [
    {
     "name": "stdout",
     "output_type": "stream",
     "text": [
      "  Classroom Name Volunteer Name Date of Request           Subject     Timing\n",
      "0          BOM10    Volunteer R      2 Aug 2023           English    Morning\n",
      "1          BOM10    Volunteer R      3 Aug 2023              Math    Morning\n",
      "2          BOM11    Volunteer H      3 Aug 2023           English  Afternoon\n",
      "3          BOM12    Volunteer M      4 Aug 2023  Career Mentoring    Evening\n",
      "4          BOM13    Volunteer F      5 Aug 2023           Science    Morning\n",
      "5          BOM14    Volunteer P      2 Aug 2023    Social Studies    Morning\n",
      "6          BOM16    Volunteer M      5 Aug 2023  Career Mentoring    Evening\n"
     ]
    }
   ],
   "source": [
    "import pandas as pd\n",
    "\n",
    "# Data from the provided images\n",
    "volunteers_data = {\n",
    "    \"Name\": [\"Volunteer A\", \"Volunteer B\", \"Volunteer C\", \"Volunteer D\", \"Volunteer E\", \"Volunteer F\", \n",
    "             \"Volunteer G\", \"Volunteer H\", \"Volunteer I\", \"Volunteer J\", \"Volunteer K\", \"Volunteer L\", \n",
    "             \"Volunteer M\", \"Volunteer N\", \"Volunteer O\", \"Volunteer P\", \"Volunteer Q\", \"Volunteer R\", \n",
    "             \"Volunteer S\"],\n",
    "    \"Mode\": [\"Offline\", \"Offline\", \"Offline\", \"Online\", \"Offline\", \"Offline\", \"Offline\", \"Offline\", \"Online\", \n",
    "             \"Offline\", \"Offline\", \"Offline\", \"Online\", \"Offline\", \"Offline\", \"Offline\", \"Online\", \"Offline\", \n",
    "             \"Offline\"],\n",
    "    \"City\": [\"Mumbai\", \"Mumbai\", \"Mumbai\", \"-\", \"Delhi\", \"Mumbai\", \"Pune\", \"Mumbai\", \"-\", \"Mumbai\", \n",
    "             \"Hyderabad\", \"Bangalore\", \"-\", \"Chennai\", \"Mumbai\", \"Mumbai\", \"-\", \"Mumbai\", \"Mumbai\"],\n",
    "    \"Cluster (Location Preferences)\": [\"Malad(E)-Goregaon\", \"South Bombay\", \"Sion-Dharavi\", \"-\", \"Chattarpur\", \n",
    "                                       \"Malad(W)-Jogeshwari\", \"Viman Nagar\", \"Govandi/Mankhurd, Kurla-Ghatkopar-Vikhroli\", \n",
    "                                       \"-\", \"Kurla-Ghatkopar-Vikhroli\", \"Secunderabad\", \"Whitefield\", \"-\", \n",
    "                                       \"North Chennai\", \"Kurla-Ghatkopar-Vikhroli\", \"Sion-Dharavi, Govandi/Mankhurd\", \n",
    "                                       \"-\", \"South Bombay\", \"Malad(E)-Goregaon\"],\n",
    "    \"Subject 1 Preference\": [\"English\", \"English\", \"English\", \"Science\", \"Science\", \"Math\", \"Sciene\", \"Science\", \n",
    "                             \"English\", \"Science\", \"Science\", \"Career Mentoring\", \"Math\", \"Digital Literacy\", \"Math\", \n",
    "                             \"Social Studies\", \"Career Mentoring\", \"Math\", \"Math\"],\n",
    "    \"Subject 2 Preference\": [\"Science\", \"Math\", \"Social Studies\", \"English\", \"English\", \"Science\", \"Career Mentoring\", \n",
    "                             \"English\", \"Science\", \"English\", \"Math\", \"Dance\", \"Career Mentoring\", \"Art/Craft\", \n",
    "                             \"Career Mentoring\", \"English\", \"English\", \"English\", \"English\"],\n",
    "    \"Timing\": [\"Morning\", \"Afternoon\", \"Afternoon, Morning, Evening\", \"Morning\", \"Morning, Afternoon\", \"Morning, Afternoon\", \n",
    "               \"Morning\", \"Morning, Afternoon\", \"Morning, Evening\", \"Evening\", \"Afternoon\", \"Evening\", \n",
    "               \"Afternoon, Evening\", \"Morning\", \"Evening\", \"Morning\", \"Afternoon, Morning\", \"Morning, Evening\", \n",
    "               \"Afternoon, Evening\"]\n",
    "}\n",
    "\n",
    "requests_data = {\n",
    "    \"Date of Request\": [\"2 Aug 2023\", \"1 Aug 2023\", \"3 Aug 2023\", \"3 Aug 2023\", \"4 Aug 2023\", \"5 Aug 2023\", \n",
    "                        \"2 Aug 2023\", \"1 Aug 2023\", \"5 Aug 2023\"],\n",
    "    \"Classroom Name\": [\"BOM10\", \"BOM11\", \"BOM10\", \"BOM11\", \"BOM12\", \"BOM13\", \"BOM14\", \"BOM15\", \"BOM16\"],\n",
    "    \"Mode\": [\"Offline\", \"Offline\", \"Offline\", \"Offline\", \"Online\", \"Offline\", \"Offline\", \"Offline\", \"Online\"],\n",
    "    \"City\": [\"Mumbai\", \"Mumbai\", \"Mumbai\", \"Mumbai\", \"-\", \"Mumbai\", \"Mumbai\", \"Mumbai\", \"-\"],\n",
    "    \"Cluster (Location)\": [\"South Bombay\", \"Govandi/Mankhurd\", \"South Bombay\", \"Govandi/Mankhurd\", \"-\", \n",
    "                           \"Malad(W)\", \"Govandi/Mankhurd\", \"Malad(E) - Goragaon\", \"-\"],\n",
    "    \"Subject\": [\"English\", \"Math\", \"Math\", \"English\", \"Career Mentoring\", \"Science\", \"Social Studies\", \"English\", \n",
    "                \"Career Mentoring\"],\n",
    "    \"Timings\": [\"Morning\", \"Afternoon\", \"Morning\", \"Afternoon\", \"Evening\", \"Morning\", \"Morning\", \"Afternoon\", \n",
    "                \"Evening\"],\n",
    "    \"No. of Volunteers needed\": [1, 2, 1, 1, 1, 1, 1, 2, 1]\n",
    "}\n",
    "\n",
    "# Convert to DataFrame\n",
    "volunteers_df = pd.DataFrame(volunteers_data)\n",
    "requests_df = pd.DataFrame(requests_data)\n",
    "\n",
    "# Function to match volunteers with requests\n",
    "def match_volunteers(volunteers_df, requests_df):\n",
    "    matches = []\n",
    "    \n",
    "    for idx, req in requests_df.iterrows():\n",
    "        req_mode = req['Mode']\n",
    "        req_city = req['City']\n",
    "        req_cluster = req['Cluster (Location)']\n",
    "        req_subject = req['Subject']\n",
    "        req_timing = req['Timings']\n",
    "        \n",
    "        for _, vol in volunteers_df.iterrows():\n",
    "            if vol['Mode'] == req_mode and (vol['City'] == req_city or req_city == '-') and (req_cluster in vol['Cluster (Location Preferences)'] or vol['Cluster (Location Preferences)'] == '-') and (req_subject == vol['Subject 1 Preference'] or req_subject == vol['Subject 2 Preference']) and req_timing in vol['Timing']:\n",
    "                matches.append({\n",
    "                    \"Classroom Name\": req['Classroom Name'],\n",
    "                    \"Volunteer Name\": vol['Name'],\n",
    "                    \"Date of Request\": req['Date of Request'],\n",
    "                    \"Subject\": req_subject,\n",
    "                    \"Timing\": req_timing\n",
    "                })\n",
    "                if len([match for match in matches if match['Classroom Name'] == req['Classroom Name']]) >= req['No. of Volunteers needed']:\n",
    "                    break\n",
    "    \n",
    "    return pd.DataFrame(matches)\n",
    "\n",
    "# Get matches\n",
    "matches_df = match_volunteers(volunteers_df, requests_df)\n",
    "\n",
    "# Display the matching table\n",
    "print(matches_df)\n",
    "\n",
    "# Save to a CSV file\n",
    "matches_df.to_csv('volunteer_classroom_matches.csv', index=False)\n"
   ]
  },
  {
   "cell_type": "code",
   "execution_count": 3,
   "id": "1304a15e-88f2-41b0-87d7-db96e49e165c",
   "metadata": {},
   "outputs": [
    {
     "name": "stdout",
     "output_type": "stream",
     "text": [
      "+----+------------------+------------------+-------------------+------------------+-----------+\n",
      "|    | Classroom Name   | Volunteer Name   | Date of Request   | Subject          | Timing    |\n",
      "|----+------------------+------------------+-------------------+------------------+-----------|\n",
      "|  0 | BOM10            | Volunteer R      | 2 Aug 2023        | English          | Morning   |\n",
      "|  1 | BOM10            | Volunteer R      | 3 Aug 2023        | Math             | Morning   |\n",
      "|  2 | BOM11            | Volunteer H      | 3 Aug 2023        | English          | Afternoon |\n",
      "|  3 | BOM12            | Volunteer M      | 4 Aug 2023        | Career Mentoring | Evening   |\n",
      "|  4 | BOM13            | Volunteer F      | 5 Aug 2023        | Science          | Morning   |\n",
      "|  5 | BOM14            | Volunteer P      | 2 Aug 2023        | Social Studies   | Morning   |\n",
      "|  6 | BOM16            | Volunteer M      | 5 Aug 2023        | Career Mentoring | Evening   |\n",
      "+----+------------------+------------------+-------------------+------------------+-----------+\n"
     ]
    }
   ],
   "source": [
    "from tabulate import tabulate\n",
    "print(tabulate(matches_df, headers='keys', tablefmt='psql'))\n",
    "\n",
    "# Save to a CSV file\n",
    "# matches_df.to_csv('volunteer_classroom_matches.csv', index=False)"
   ]
  },
  {
   "cell_type": "code",
   "execution_count": null,
   "id": "c316d86a-db01-4c03-80a9-c9c5952784c7",
   "metadata": {},
   "outputs": [],
   "source": []
  }
 ],
 "metadata": {
  "kernelspec": {
   "display_name": "Python 3 (ipykernel)",
   "language": "python",
   "name": "python3"
  },
  "language_info": {
   "codemirror_mode": {
    "name": "ipython",
    "version": 3
   },
   "file_extension": ".py",
   "mimetype": "text/x-python",
   "name": "python",
   "nbconvert_exporter": "python",
   "pygments_lexer": "ipython3",
   "version": "3.12.2"
  }
 },
 "nbformat": 4,
 "nbformat_minor": 5
}
